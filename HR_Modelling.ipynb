{
 "cells": [
  {
   "cell_type": "code",
   "execution_count": 16,
   "metadata": {},
   "outputs": [],
   "source": [
    "import numpy as np\n",
    "import pandas as np\n",
    "import matplotlib.pyplot as plt\n",
    "import seaborn as sns\n",
    "%matplotlib inline\n",
    "\n",
    "from IPython.display import display\n",
    "from sklearn.preprocessing import scale, normalize\n",
    "from sklearn.linear_model import LogisticRegression\n",
    "from sklearn.neighbors import KNeighborsClassifier\n",
    "from sklearn.tree import DecisionTreeClassifier\n",
    "from sklearn.ensemble import RandomForestClassifier\n",
    "from sklearn.model_selection import GridSearchCV, train_test_split\n",
    "from sklearn.metrics import roc_curve, auc,confusion_matrix\n",
    "from sklearn.model_selection import cross_val_predict\n",
    "\n",
    "import warnings\n",
    "warnings.filterwarnings('ignore')"
   ]
  },
  {
   "cell_type": "code",
   "execution_count": 2,
   "metadata": {},
   "outputs": [
    {
     "data": {
      "text/html": [
       "<div>\n",
       "<style scoped>\n",
       "    .dataframe tbody tr th:only-of-type {\n",
       "        vertical-align: middle;\n",
       "    }\n",
       "\n",
       "    .dataframe tbody tr th {\n",
       "        vertical-align: top;\n",
       "    }\n",
       "\n",
       "    .dataframe thead th {\n",
       "        text-align: right;\n",
       "    }\n",
       "</style>\n",
       "<table border=\"1\" class=\"dataframe\">\n",
       "  <thead>\n",
       "    <tr style=\"text-align: right;\">\n",
       "      <th></th>\n",
       "      <th>satisfaction_level</th>\n",
       "      <th>last_evaluation</th>\n",
       "      <th>number_project</th>\n",
       "      <th>average_montly_hours</th>\n",
       "      <th>time_spend_company</th>\n",
       "      <th>Work_accident</th>\n",
       "      <th>left</th>\n",
       "      <th>promotion_last_5years</th>\n",
       "      <th>sales</th>\n",
       "      <th>salary</th>\n",
       "      <th>avg_hour_project</th>\n",
       "    </tr>\n",
       "  </thead>\n",
       "  <tbody>\n",
       "    <tr>\n",
       "      <th>0</th>\n",
       "      <td>0.0</td>\n",
       "      <td>0.0</td>\n",
       "      <td>2</td>\n",
       "      <td>0</td>\n",
       "      <td>3</td>\n",
       "      <td>0</td>\n",
       "      <td>1</td>\n",
       "      <td>0</td>\n",
       "      <td>0</td>\n",
       "      <td>0</td>\n",
       "      <td>1.0</td>\n",
       "    </tr>\n",
       "    <tr>\n",
       "      <th>1</th>\n",
       "      <td>2.0</td>\n",
       "      <td>2.0</td>\n",
       "      <td>5</td>\n",
       "      <td>2</td>\n",
       "      <td>6</td>\n",
       "      <td>0</td>\n",
       "      <td>1</td>\n",
       "      <td>0</td>\n",
       "      <td>0</td>\n",
       "      <td>1</td>\n",
       "      <td>0.0</td>\n",
       "    </tr>\n",
       "    <tr>\n",
       "      <th>2</th>\n",
       "      <td>0.0</td>\n",
       "      <td>2.0</td>\n",
       "      <td>7</td>\n",
       "      <td>2</td>\n",
       "      <td>4</td>\n",
       "      <td>0</td>\n",
       "      <td>1</td>\n",
       "      <td>0</td>\n",
       "      <td>0</td>\n",
       "      <td>1</td>\n",
       "      <td>0.0</td>\n",
       "    </tr>\n",
       "    <tr>\n",
       "      <th>3</th>\n",
       "      <td>2.0</td>\n",
       "      <td>2.0</td>\n",
       "      <td>5</td>\n",
       "      <td>1</td>\n",
       "      <td>5</td>\n",
       "      <td>0</td>\n",
       "      <td>1</td>\n",
       "      <td>0</td>\n",
       "      <td>0</td>\n",
       "      <td>0</td>\n",
       "      <td>0.0</td>\n",
       "    </tr>\n",
       "    <tr>\n",
       "      <th>4</th>\n",
       "      <td>0.0</td>\n",
       "      <td>0.0</td>\n",
       "      <td>2</td>\n",
       "      <td>0</td>\n",
       "      <td>3</td>\n",
       "      <td>0</td>\n",
       "      <td>1</td>\n",
       "      <td>0</td>\n",
       "      <td>0</td>\n",
       "      <td>0</td>\n",
       "      <td>1.0</td>\n",
       "    </tr>\n",
       "  </tbody>\n",
       "</table>\n",
       "</div>"
      ],
      "text/plain": [
       "   satisfaction_level  last_evaluation  number_project  average_montly_hours  \\\n",
       "0                 0.0              0.0               2                     0   \n",
       "1                 2.0              2.0               5                     2   \n",
       "2                 0.0              2.0               7                     2   \n",
       "3                 2.0              2.0               5                     1   \n",
       "4                 0.0              0.0               2                     0   \n",
       "\n",
       "   time_spend_company  Work_accident  left  promotion_last_5years  sales  \\\n",
       "0                   3              0     1                      0      0   \n",
       "1                   6              0     1                      0      0   \n",
       "2                   4              0     1                      0      0   \n",
       "3                   5              0     1                      0      0   \n",
       "4                   3              0     1                      0      0   \n",
       "\n",
       "   salary  avg_hour_project  \n",
       "0       0               1.0  \n",
       "1       1               0.0  \n",
       "2       1               0.0  \n",
       "3       0               0.0  \n",
       "4       0               1.0  "
      ]
     },
     "execution_count": 2,
     "metadata": {},
     "output_type": "execute_result"
    }
   ],
   "source": [
    "#Load data set is the data set were we have converted categorical values to numerical values\n",
    "%run load.py\n",
    "data.head()"
   ]
  },
  {
   "cell_type": "code",
   "execution_count": 3,
   "metadata": {},
   "outputs": [],
   "source": [
    "labels = data.left\n",
    "ml_data = data.drop('left', axis = 1)"
   ]
  },
  {
   "cell_type": "markdown",
   "metadata": {},
   "source": [
    "Spliting dataset into training and test"
   ]
  },
  {
   "cell_type": "code",
   "execution_count": 4,
   "metadata": {},
   "outputs": [],
   "source": [
    "X_train, X_test, y_train, y_test = train_test_split(ml_data, labels, test_size = 0.2, random_state = 25)"
   ]
  },
  {
   "cell_type": "markdown",
   "metadata": {},
   "source": [
    "# Classification Models"
   ]
  },
  {
   "cell_type": "markdown",
   "metadata": {},
   "source": [
    "Model: Logistic Regression"
   ]
  },
  {
   "cell_type": "code",
   "execution_count": 45,
   "metadata": {},
   "outputs": [
    {
     "name": "stdout",
     "output_type": "stream",
     "text": [
      "Training score: 0.76372\n",
      "Test score: 0.76410\n"
     ]
    }
   ],
   "source": [
    "#Logistic Regression:\n",
    "lgr = LogisticRegression(random_state = 42)\n",
    "lgr.fit(X_train, y_train)\n",
    "\n",
    "y_probas_logi = cross_val_predict(lgr, X_train, y_train, cv=3,\n",
    "method=\"predict_proba\")\n",
    "\n",
    "y_score = lgr.fit(X_train, y_train).decision_function(X_test)\n",
    "train_score_lgr = lgr.score(X_train, y_train)\n",
    "test_score_lgr = lgr.score(X_test, y_test)\n",
    "print(\"Training score: {:.5f}\".format(train_score_lgr))\n",
    "print(\"Test score: {:.5f}\".format(test_score_lgr))"
   ]
  },
  {
   "cell_type": "markdown",
   "metadata": {},
   "source": [
    "Plot ROC Curve of Logistic Regression"
   ]
  },
  {
   "cell_type": "code",
   "execution_count": 46,
   "metadata": {},
   "outputs": [],
   "source": [
    "#Receiver operating characteristic(ROC)\n",
    "def plot_roc_curve(fpr, tpr, label=None):\n",
    "    plt.plot(fpr, tpr, linewidth=2, label=label)\n",
    "    plt.plot([0, 1], [0, 1], 'k--')\n",
    "    plt.axis([0, 1, 0, 1])\n",
    "    plt.xlabel('False Positive Rate')\n",
    "    plt.ylabel('True Positive Rate')"
   ]
  },
  {
   "cell_type": "code",
   "execution_count": 47,
   "metadata": {},
   "outputs": [
    {
     "data": {
      "image/png": "[encoded data removed]",
      "text/plain": [
       "<matplotlib.figure.Figure at 0x246f3f05f98>"
      ]
     },
     "metadata": {},
     "output_type": "display_data"
    }
   ],
   "source": [
    "y_scores_logi = y_probas_logi[:, 1] # score = proba of positive class\n",
    "fpr, tpr, thresholds_logi = roc_curve(y_train,y_scores_logi)\n",
    "\n",
    "plot_roc_curve(fpr, tpr, \"logi\")\n",
    "plt.legend(loc=\"bottom right\")\n",
    "plt.show()"
   ]
  },
  {
   "cell_type": "markdown",
   "metadata": {},
   "source": [
    "Model: k-Nearest-Neighbors"
   ]
  },
  {
   "cell_type": "code",
   "execution_count": 49,
   "metadata": {},
   "outputs": [
    {
     "name": "stdout",
     "output_type": "stream",
     "text": [
      "Training score: 0.97427\n",
      "Test score: 0.95316\n"
     ]
    }
   ],
   "source": [
    "#k-Nearest-Neighbors\n",
    "knn = KNeighborsClassifier(n_neighbors=2)\n",
    "parameters = {'n_neighbors':[2,3,4,5,6,7,8,9,10], 'leaf_size':[20,30,40]}\n",
    "clf = GridSearchCV(knn, parameters, cv = 5)\n",
    "clf.fit(X_train, y_train)\n",
    "\n",
    "y_probas_knn = cross_val_predict(knn, X_train, y_train, cv=3,\n",
    "method=\"predict_proba\")\n",
    "\n",
    "train_score_knn = clf.score(X_train, y_train)\n",
    "test_score_knn = clf.score(X_test, y_test)\n",
    "print(\"Training score: {:.5f}\".format(train_score_knn))\n",
    "print(\"Test score: {:.5f}\".format(test_score_knn))"
   ]
  },
  {
   "cell_type": "markdown",
   "metadata": {},
   "source": [
    "Plot ROC Curve of k-Nearest-Neighbors"
   ]
  },
  {
   "cell_type": "code",
   "execution_count": 51,
   "metadata": {},
   "outputs": [
    {
     "data": {
      "image/png": "[encoded data removed]",
      "text/plain": [
       "<matplotlib.figure.Figure at 0x246ffd5e898>"
      ]
     },
     "metadata": {},
     "output_type": "display_data"
    }
   ],
   "source": [
    "y_scores_knn = y_probas_knn[:, 1] # score = proba of positive class\n",
    "fpr, tpr, thresholds_knn = roc_curve(y_train,y_scores_knn)\n",
    "\n",
    "plot_roc_curve(fpr, tpr, \"n_neighbors\")\n",
    "plt.legend(loc=\"bottom right\")\n",
    "plt.show()"
   ]
  },
  {
   "cell_type": "markdown",
   "metadata": {},
   "source": [
    "Model: DecisionTree"
   ]
  },
  {
   "cell_type": "code",
   "execution_count": 52,
   "metadata": {},
   "outputs": [
    {
     "name": "stdout",
     "output_type": "stream",
     "text": [
      "Training score: 0.99068\n",
      "Test score: 0.96376\n"
     ]
    }
   ],
   "source": [
    "dt = DecisionTreeClassifier()\n",
    "parameters = {'criterion':['gini', 'entropy'], 'max_features': ['auto', 'sqrt', 'log2', None]}\n",
    "\n",
    "y_probas_dt = cross_val_predict(dt, X_train, y_train, cv=3,\n",
    "method=\"predict_proba\")\n",
    "\n",
    "clf = GridSearchCV(dt, parameters, cv = 5)\n",
    "clf.fit(X_train, y_train)\n",
    "train_score_dt = clf.score(X_train, y_train)\n",
    "test_score_dt = clf.score(X_test, y_test)\n",
    "print(\"Training score: {:.5f}\".format(train_score_dt))\n",
    "print(\"Test score: {:.5f}\".format(test_score_dt))"
   ]
  },
  {
   "cell_type": "markdown",
   "metadata": {},
   "source": [
    "Plot ROC Curve of DecisionTree"
   ]
  },
  {
   "cell_type": "code",
   "execution_count": 53,
   "metadata": {},
   "outputs": [],
   "source": [
    "y_scores_dt = y_probas_dt[:, 1] # score = proba of positive class\n",
    "fpr, tpr, thresholds_forest = roc_curve(y_train,y_scores_dt)"
   ]
  },
  {
   "cell_type": "code",
   "execution_count": 54,
   "metadata": {},
   "outputs": [
    {
     "data": {
      "image/png": "[encoded data removed]",
      "text/plain": [
       "<matplotlib.figure.Figure at 0x246ffd92b00>"
      ]
     },
     "metadata": {},
     "output_type": "display_data"
    }
   ],
   "source": [
    "plot_roc_curve(fpr, tpr, \"Decision Tree\")\n",
    "plt.legend(loc=\"bottom right\")\n",
    "plt.show()"
   ]
  },
  {
   "cell_type": "markdown",
   "metadata": {},
   "source": [
    "Model: Random Forest"
   ]
  },
  {
   "cell_type": "code",
   "execution_count": 55,
   "metadata": {},
   "outputs": [
    {
     "name": "stdout",
     "output_type": "stream",
     "text": [
      "Training score: 0.98974\n",
      "Test score: 0.97368\n"
     ]
    }
   ],
   "source": [
    "#RandomForest:\n",
    "rfc = RandomForestClassifier()\n",
    "parameters = {'criterion': ['gini', 'entropy'], 'n_estimators': range(5,15),\n",
    "              'max_features': ['auto', 'sqrt', 'log2', None],\n",
    "              'bootstrap': [True, False], 'warm_start': [True, False]}\n",
    "clf = GridSearchCV(rfc, parameters, cv = 5)\n",
    "clf.fit(X_train, y_train)\n",
    "train_score_rfc = clf.score(X_train, y_train)\n",
    "test_score_rfc = clf.score(X_test, y_test)\n",
    "print(\"Training score: {:.5f}\".format(train_score_rfc))\n",
    "print(\"Test score: {:.5f}\".format(test_score_rfc))"
   ]
  },
  {
   "cell_type": "code",
   "execution_count": 56,
   "metadata": {},
   "outputs": [],
   "source": [
    "#forest_clf = RandomForestClassifier(random_state=42)\n",
    "y_probas_forest = cross_val_predict(rfc, X_train, y_train, cv=3,\n",
    "method=\"predict_proba\")"
   ]
  },
  {
   "cell_type": "markdown",
   "metadata": {},
   "source": [
    "Plot ROC Curve of Random Forest"
   ]
  },
  {
   "cell_type": "code",
   "execution_count": 57,
   "metadata": {},
   "outputs": [],
   "source": [
    "y_scores_forest = y_probas_forest[:, 1] # score = proba of positive class\n",
    "fpr_forest, tpr_forest, thresholds_forest = roc_curve(y_train,y_scores_forest)"
   ]
  },
  {
   "cell_type": "code",
   "execution_count": 58,
   "metadata": {},
   "outputs": [
    {
     "data": {
      "image/png": "[encoded data removed]",
      "text/plain": [
       "<matplotlib.figure.Figure at 0x246ffd792b0>"
      ]
     },
     "metadata": {},
     "output_type": "display_data"
    }
   ],
   "source": [
    "plot_roc_curve(fpr_forest, tpr_forest, \"Random Forest\")\n",
    "plt.legend(loc=\"bottom right\")\n",
    "plt.show()"
   ]
  },
  {
   "cell_type": "code",
   "execution_count": 43,
   "metadata": {},
   "outputs": [
    {
     "data": {
      "text/html": [
       "<div>\n",
       "<style scoped>\n",
       "    .dataframe tbody tr th:only-of-type {\n",
       "        vertical-align: middle;\n",
       "    }\n",
       "\n",
       "    .dataframe tbody tr th {\n",
       "        vertical-align: top;\n",
       "    }\n",
       "\n",
       "    .dataframe thead th {\n",
       "        text-align: right;\n",
       "    }\n",
       "</style>\n",
       "<table border=\"1\" class=\"dataframe\">\n",
       "  <thead>\n",
       "    <tr style=\"text-align: right;\">\n",
       "      <th></th>\n",
       "      <th>Model</th>\n",
       "      <th>Testing_Score</th>\n",
       "      <th>Training_Score</th>\n",
       "    </tr>\n",
       "  </thead>\n",
       "  <tbody>\n",
       "    <tr>\n",
       "      <th>4</th>\n",
       "      <td>Random Forest</td>\n",
       "      <td>0.971624</td>\n",
       "      <td>0.989998</td>\n",
       "    </tr>\n",
       "    <tr>\n",
       "      <th>3</th>\n",
       "      <td>Decision Tree</td>\n",
       "      <td>0.962735</td>\n",
       "      <td>0.990682</td>\n",
       "    </tr>\n",
       "    <tr>\n",
       "      <th>1</th>\n",
       "      <td>SVM</td>\n",
       "      <td>0.961368</td>\n",
       "      <td>0.966319</td>\n",
       "    </tr>\n",
       "    <tr>\n",
       "      <th>2</th>\n",
       "      <td>kNN</td>\n",
       "      <td>0.953162</td>\n",
       "      <td>0.974269</td>\n",
       "    </tr>\n",
       "    <tr>\n",
       "      <th>0</th>\n",
       "      <td>Logistic Regression</td>\n",
       "      <td>0.764103</td>\n",
       "      <td>0.763720</td>\n",
       "    </tr>\n",
       "  </tbody>\n",
       "</table>\n",
       "</div>"
      ],
      "text/plain": [
       "                 Model  Testing_Score  Training_Score\n",
       "4        Random Forest       0.971624        0.989998\n",
       "3        Decision Tree       0.962735        0.990682\n",
       "1                  SVM       0.961368        0.966319\n",
       "2                  kNN       0.953162        0.974269\n",
       "0  Logistic Regression       0.764103        0.763720"
      ]
     },
     "execution_count": 43,
     "metadata": {},
     "output_type": "execute_result"
    }
   ],
   "source": [
    "models = pd.DataFrame({\n",
    "        'Model'          : ['Logistic Regression', 'kNN', 'Decision Tree', 'Random Forest'],\n",
    "        'Training_Score' : [train_score_lgr, train_score_knn, train_score_dt, train_score_rfc],\n",
    "        'Testing_Score'  : [test_score_lgr, test_score_knn, test_score_dt, test_score_rfc]\n",
    "    })\n",
    "models.sort_values(by='Testing_Score', ascending=False)"
   ]
  },
  {
   "cell_type": "markdown",
   "metadata": {},
   "source": [
    "# Final Thoughts:\n",
    "Logistic Regression is one of the basic classification models that usually be used first to see the results;\n",
    "Random Forest performs best among all the classification models;\n",
    "The scores and ROC curves indicate that all the models (except logistic regression) did a excellent job in predicting."
   ]
  }
 ],
 "metadata": {
  "kernelspec": {
   "display_name": "Python 3",
   "language": "python",
   "name": "python3"
  },
  "language_info": {
   "codemirror_mode": {
    "name": "ipython",
    "version": 3
   },
   "file_extension": ".py",
   "mimetype": "text/x-python",
   "name": "python",
   "nbconvert_exporter": "python",
   "pygments_lexer": "ipython3",
   "version": "3.6.4"
  }
 },
 "nbformat": 4,
 "nbformat_minor": 2
}
